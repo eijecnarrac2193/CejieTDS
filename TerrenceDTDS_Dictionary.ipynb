{
  "nbformat": 4,
  "nbformat_minor": 0,
  "metadata": {
    "colab": {
      "name": "TerrenceDTDS_Dictionary.ipynb",
      "provenance": [],
      "authorship_tag": "ABX9TyMSizwdSLxKS0hM/xRJWlQ7",
      "include_colab_link": true
    },
    "kernelspec": {
      "name": "python3",
      "display_name": "Python 3"
    }
  },
  "cells": [
    {
      "cell_type": "markdown",
      "metadata": {
        "id": "view-in-github",
        "colab_type": "text"
      },
      "source": [
        "<a href=\"https://colab.research.google.com/github/eijecnarrac2193/CejieTDS/blob/master/TerrenceDTDS_Dictionary.ipynb\" target=\"_parent\"><img src=\"https://colab.research.google.com/assets/colab-badge.svg\" alt=\"Open In Colab\"/></a>"
      ]
    },
    {
      "cell_type": "code",
      "metadata": {
        "id": "YcEDvLwvlnX1",
        "colab_type": "code",
        "colab": {}
      },
      "source": [
        ""
      ],
      "execution_count": 0,
      "outputs": []
    },
    {
      "cell_type": "markdown",
      "metadata": {
        "id": "hEZ6h6k-mABq",
        "colab_type": "text"
      },
      "source": [
        "Mean = Avg of values\n",
        "\n",
        "STD = Standard Deviation\n",
        "\n",
        "Features = Column Names\n",
        "\n",
        "Pandas = Python Library to easy indexing\n",
        "\n",
        "Mode = Values that appears most often\n",
        "\n",
        "median = Middle value of data\n",
        "\n",
        "Scipy = solves high level math equations\n",
        "\n",
        "sets = unordered collections\n",
        "\n",
        "min = minimum column values\n",
        "\n",
        "max = maximum column values\n",
        "\n",
        "one hot encoding = converts text and strings to numbers for machine learning\n",
        "\n",
        "attributes = data within rows of the features\n",
        "\n",
        "numpy = helps python perform fast mathemetical operations\n"
      ]
    },
    {
      "cell_type": "markdown",
      "metadata": {
        "id": "oeIgEs_Soptb",
        "colab_type": "text"
      },
      "source": [
        "dictionary = creates key values (used heavuly in NoSQL)\n",
        "\n",
        "NoSQL = (not only structured query language) = lang used to work with unstructured data\n",
        "\n",
        "noSQL softwares = mongodb, cassandra, redis, amazon dynamo DB\n",
        "\n",
        "SQL - structured query language = lang used to work with structured data\n",
        "\n",
        "SQL softwares - postgreSQL, microsoft SQL server, MySQL, SQLite\n",
        "\n",
        "Loops = perfom a task over and over again\n",
        "\n",
        "Range Function = outputs an ordered sequence as a list\n",
        "\n",
        "integer = number\n",
        "\n",
        "float = decimals\n",
        "\n",
        "string = seq of characters (words, letters, numbers, integers, floats, )\n",
        "\n",
        "object = all characters (strings and objects have bcome synonymous)\n",
        "list = a sequence of objects/strings (lists are tuples by default unless you add brackets)\n",
        "\n",
        "brackets = make it a list (can change values within variable)\n",
        "tuple = parenthesis (cannot change values within variable unles syou recreate variable)"
      ]
    },
    {
      "cell_type": "code",
      "metadata": {
        "id": "5kVHgIJPn631",
        "colab_type": "code",
        "colab": {}
      },
      "source": [
        ""
      ],
      "execution_count": 0,
      "outputs": []
    },
    {
      "cell_type": "code",
      "metadata": {
        "id": "se-dMDz2n8HW",
        "colab_type": "code",
        "colab": {}
      },
      "source": [
        "#[] are considered lists and modules\n",
        "#you can change lists\n",
        "\n",
        "Crypto = [\"BitCoin\", \"Ether\", \"Chia\"]"
      ],
      "execution_count": 0,
      "outputs": []
    },
    {
      "cell_type": "code",
      "metadata": {
        "id": "sNySEUSOoOOc",
        "colab_type": "code",
        "colab": {
          "base_uri": "https://localhost:8080/",
          "height": 34
        },
        "outputId": "476b5c02-3e5b-47c1-eaad-74185125f0e2"
      },
      "source": [
        "Crypto"
      ],
      "execution_count": 3,
      "outputs": [
        {
          "output_type": "execute_result",
          "data": {
            "text/plain": [
              "['BitCoin', 'Ether', 'Chia']"
            ]
          },
          "metadata": {
            "tags": []
          },
          "execution_count": 3
        }
      ]
    },
    {
      "cell_type": "code",
      "metadata": {
        "id": "6ltcHvpXoQBu",
        "colab_type": "code",
        "colab": {}
      },
      "source": [
        "#this allows us to change the values in the first position [0] of the list\n",
        "Crypto[0] = \"Tezos\""
      ],
      "execution_count": 0,
      "outputs": []
    },
    {
      "cell_type": "code",
      "metadata": {
        "id": "QphqE7v1oYTV",
        "colab_type": "code",
        "colab": {
          "base_uri": "https://localhost:8080/",
          "height": 34
        },
        "outputId": "0ae2882b-efa1-4e12-e1e4-ec472302877a"
      },
      "source": [
        "Crypto"
      ],
      "execution_count": 5,
      "outputs": [
        {
          "output_type": "execute_result",
          "data": {
            "text/plain": [
              "['Tezos', 'Ether', 'Chia']"
            ]
          },
          "metadata": {
            "tags": []
          },
          "execution_count": 5
        }
      ]
    },
    {
      "cell_type": "code",
      "metadata": {
        "id": "7JRgY-rFoZQV",
        "colab_type": "code",
        "colab": {}
      },
      "source": [
        "#lets create a 'Tuple'\n",
        "# tuple is not mutable meaning you cannot change it\n",
        "\n",
        "crypto = (\"Tezos\", \"Ether\", \"Chia\" )"
      ],
      "execution_count": 0,
      "outputs": []
    },
    {
      "cell_type": "code",
      "metadata": {
        "id": "EZL3I6JipNmk",
        "colab_type": "code",
        "colab": {
          "base_uri": "https://localhost:8080/",
          "height": 34
        },
        "outputId": "71c68164-6337-4fe2-d40f-2aa769d61669"
      },
      "source": [
        "crypto"
      ],
      "execution_count": 9,
      "outputs": [
        {
          "output_type": "execute_result",
          "data": {
            "text/plain": [
              "('Tezos', 'Ether', 'Chia')"
            ]
          },
          "metadata": {
            "tags": []
          },
          "execution_count": 9
        }
      ]
    },
    {
      "cell_type": "code",
      "metadata": {
        "id": "BAhhjn22pOQq",
        "colab_type": "code",
        "colab": {
          "base_uri": "https://localhost:8080/",
          "height": 164
        },
        "outputId": "769b82f3-35fe-4da5-bda8-2435b088c813"
      },
      "source": [
        "crypto[0] = \"BitCoin\""
      ],
      "execution_count": 10,
      "outputs": [
        {
          "output_type": "error",
          "ename": "TypeError",
          "evalue": "ignored",
          "traceback": [
            "\u001b[0;31m---------------------------------------------------------------------------\u001b[0m",
            "\u001b[0;31mTypeError\u001b[0m                                 Traceback (most recent call last)",
            "\u001b[0;32m<ipython-input-10-241b46f33964>\u001b[0m in \u001b[0;36m<module>\u001b[0;34m()\u001b[0m\n\u001b[0;32m----> 1\u001b[0;31m \u001b[0mcrypto\u001b[0m\u001b[0;34m[\u001b[0m\u001b[0;36m0\u001b[0m\u001b[0;34m]\u001b[0m \u001b[0;34m=\u001b[0m \u001b[0;34m\"BitCoin\"\u001b[0m\u001b[0;34m\u001b[0m\u001b[0;34m\u001b[0m\u001b[0m\n\u001b[0m",
            "\u001b[0;31mTypeError\u001b[0m: 'tuple' object does not support item assignment"
          ]
        }
      ]
    },
    {
      "cell_type": "code",
      "metadata": {
        "id": "KuF6eDY4pTfb",
        "colab_type": "code",
        "colab": {}
      },
      "source": [
        "# creating a nested list, a list within a list\n",
        "\n",
        "Crypto_ = [\"BitCoin\", [\"Tezos\", \"Ether\"], \"Chia\"]"
      ],
      "execution_count": 0,
      "outputs": []
    },
    {
      "cell_type": "code",
      "metadata": {
        "id": "fe54zcHtpvGG",
        "colab_type": "code",
        "colab": {
          "base_uri": "https://localhost:8080/",
          "height": 34
        },
        "outputId": "c0fccd23-ee29-4183-b0f7-3b7aaf1af320"
      },
      "source": [
        "Crypto_"
      ],
      "execution_count": 12,
      "outputs": [
        {
          "output_type": "execute_result",
          "data": {
            "text/plain": [
              "['BitCoin', ['Tezos', 'Ether'], 'Chia']"
            ]
          },
          "metadata": {
            "tags": []
          },
          "execution_count": 12
        }
      ]
    },
    {
      "cell_type": "code",
      "metadata": {
        "id": "K4uxvX0EpwRs",
        "colab_type": "code",
        "colab": {}
      },
      "source": [
        "Crypto_[1] = \"My Crypto\""
      ],
      "execution_count": 0,
      "outputs": []
    },
    {
      "cell_type": "code",
      "metadata": {
        "id": "bv2A9SACp83j",
        "colab_type": "code",
        "colab": {
          "base_uri": "https://localhost:8080/",
          "height": 34
        },
        "outputId": "b80945ad-91b1-4aaa-e5f6-678d20ff3163"
      },
      "source": [
        "Crypto_"
      ],
      "execution_count": 14,
      "outputs": [
        {
          "output_type": "execute_result",
          "data": {
            "text/plain": [
              "['BitCoin', 'My Crypto', 'Chia']"
            ]
          },
          "metadata": {
            "tags": []
          },
          "execution_count": 14
        }
      ]
    },
    {
      "cell_type": "code",
      "metadata": {
        "id": "E8ZzAOXwp-QD",
        "colab_type": "code",
        "colab": {
          "base_uri": "https://localhost:8080/",
          "height": 34
        },
        "outputId": "f8ce8352-dd3b-456c-cfa4-bb040a1828ba"
      },
      "source": [
        "#This code allows us to locate info with lists\n",
        "#the number 1 in the first bracket pulls the second value which has been nested together as one valie\n",
        "#then the number 1 puells out the second values within the lists\n",
        "Crypto_ = [\"BitCoin\", [\"Tezos\", \"Ether\"], \"Chia\"]\n",
        "print(Crypto_[1][1])"
      ],
      "execution_count": 15,
      "outputs": [
        {
          "output_type": "stream",
          "text": [
            "Ether\n"
          ],
          "name": "stdout"
        }
      ]
    },
    {
      "cell_type": "code",
      "metadata": {
        "id": "yt0lBWpkqYwe",
        "colab_type": "code",
        "colab": {
          "base_uri": "https://localhost:8080/",
          "height": 34
        },
        "outputId": "03e5671d-c982-47c8-e0d7-5ddae627ba2f"
      },
      "source": [
        "#Add another data point to list\n",
        "Crypto_.append(\"XRP\")\n",
        "print(Crypto_)"
      ],
      "execution_count": 17,
      "outputs": [
        {
          "output_type": "stream",
          "text": [
            "['BitCoin', ['Tezos', 'Ether'], 'Chia', 'Yen', 'XRP']\n"
          ],
          "name": "stdout"
        }
      ]
    },
    {
      "cell_type": "code",
      "metadata": {
        "id": "Mkg8wHgnqv8p",
        "colab_type": "code",
        "colab": {}
      },
      "source": [
        "#Lists have a particular length\n",
        "Currency = len(Crypto_)"
      ],
      "execution_count": 0,
      "outputs": []
    },
    {
      "cell_type": "code",
      "metadata": {
        "id": "B3i5gGwWrL7f",
        "colab_type": "code",
        "colab": {
          "base_uri": "https://localhost:8080/",
          "height": 34
        },
        "outputId": "b56e98d6-d118-456c-d6a2-b763eaa607c4"
      },
      "source": [
        "#Now it shows us 5 values\n",
        "#Currency tells us how many data points (values) within the list\n",
        "Currency"
      ],
      "execution_count": 19,
      "outputs": [
        {
          "output_type": "execute_result",
          "data": {
            "text/plain": [
              "5"
            ]
          },
          "metadata": {
            "tags": []
          },
          "execution_count": 19
        }
      ]
    },
    {
      "cell_type": "code",
      "metadata": {
        "id": "5FJs7WCfrN7s",
        "colab_type": "code",
        "colab": {
          "base_uri": "https://localhost:8080/",
          "height": 34
        },
        "outputId": "e40b1cde-d8ca-4845-d4b5-9559807e368b"
      },
      "source": [
        "print(\"You have {} kinds of crypto in your wallet\".format(Currency))"
      ],
      "execution_count": 21,
      "outputs": [
        {
          "output_type": "stream",
          "text": [
            "You have 5 kinds of crypto in your wallet\n"
          ],
          "name": "stdout"
        }
      ]
    },
    {
      "cell_type": "code",
      "metadata": {
        "id": "by8c8GTOrjd8",
        "colab_type": "code",
        "colab": {}
      },
      "source": [
        ""
      ],
      "execution_count": 0,
      "outputs": []
    },
    {
      "cell_type": "markdown",
      "metadata": {
        "id": "wMs7FXz5r6NK",
        "colab_type": "text"
      },
      "source": [
        "CREATING A DICTIONARY!!\n"
      ]
    },
    {
      "cell_type": "code",
      "metadata": {
        "id": "p1APkh4Br9Kn",
        "colab_type": "code",
        "colab": {}
      },
      "source": [
        "#HEres a super simple dictionary\n",
        "#dictionaries are used heavily in NoSQL processing\n",
        "Consultant = {\n",
        "    \"name\": \"Anthony\",\n",
        "    \"profession\": \"Massage Therapist\",\n",
        "    \"favorite color\": \"Blue\",\n",
        "}\n",
        "Customer = {\n",
        "    \"Company\": None,\n",
        "    \"Business Industry\": \"Holistic Medicine\",\n",
        "    \"Company Locations\": 3,\n",
        "    \"Employee Count\": 222,\n",
        "}"
      ],
      "execution_count": 0,
      "outputs": []
    },
    {
      "cell_type": "code",
      "metadata": {
        "id": "uAuGZN9HuMZ3",
        "colab_type": "code",
        "colab": {
          "base_uri": "https://localhost:8080/",
          "height": 51
        },
        "outputId": "ae1461d1-fcf5-4abb-bdad-bf1cabe80177"
      },
      "source": [
        "#We modify dictionary values jsut like we access them\n",
        "if Customer[\"Company\"] is None:\n",
        "  Customer[\"Company\"] = input(\"Create a DBA Company name for me to register?\"\"\")\n",
        "  print(\"Great Nice to meet you, my name is {}\".format(Consultant[\"name\"]))"
      ],
      "execution_count": 23,
      "outputs": [
        {
          "output_type": "stream",
          "text": [
            "Create a DBA Company name for me to register?Yes\n",
            "Great Nice to meet you, my name is Anthony\n"
          ],
          "name": "stdout"
        }
      ]
    },
    {
      "cell_type": "code",
      "metadata": {
        "id": "1JULX7lrulMb",
        "colab_type": "code",
        "colab": {
          "base_uri": "https://localhost:8080/",
          "height": 34
        },
        "outputId": "06378b69-cb9d-423a-b0bb-3e9b3cfcd0b8"
      },
      "source": [
        "#Change a value within a dictionary\n",
        "Customer[\"Business Industry\"] = \"Healthcare\"\n",
        "print(Customer[\"Business Industry\"])"
      ],
      "execution_count": 24,
      "outputs": [
        {
          "output_type": "stream",
          "text": [
            "Healthcare\n"
          ],
          "name": "stdout"
        }
      ]
    },
    {
      "cell_type": "code",
      "metadata": {
        "id": "Z_opTm2-vHI9",
        "colab_type": "code",
        "colab": {}
      },
      "source": [
        "#NEW DICTIOnary\n",
        "\n",
        "Tire_prices = {\n",
        "    'Toyo': 100,\n",
        "    'Goodyear': 150,\n",
        "    'Nitto': 180,\n",
        "\n",
        "}"
      ],
      "execution_count": 0,
      "outputs": []
    },
    {
      "cell_type": "code",
      "metadata": {
        "id": "RxZNozmPvfp-",
        "colab_type": "code",
        "colab": {}
      },
      "source": [
        "def prices(Tire_brands):\n",
        "  if Tire_brands in Tire_prices:\n",
        "    return 'The tire price for {} is ${}'.format(Tire_brands, Tire_prices[Tire_brands])\n",
        "  else:\n",
        "    return 'The tire price for {} is not available'.format(Tire_brands)"
      ],
      "execution_count": 0,
      "outputs": []
    },
    {
      "cell_type": "code",
      "metadata": {
        "id": "u4ghfBVWv5W-",
        "colab_type": "code",
        "colab": {
          "base_uri": "https://localhost:8080/",
          "height": 34
        },
        "outputId": "9857eb5b-4081-4864-fea5-c28a7a3a0269"
      },
      "source": [
        "prices(\"Toyo\")"
      ],
      "execution_count": 36,
      "outputs": [
        {
          "output_type": "execute_result",
          "data": {
            "text/plain": [
              "'The tire price for Toyo is $100'"
            ]
          },
          "metadata": {
            "tags": []
          },
          "execution_count": 36
        }
      ]
    },
    {
      "cell_type": "code",
      "metadata": {
        "id": "Qoq_GU4kwQO8",
        "colab_type": "code",
        "colab": {}
      },
      "source": [
        ""
      ],
      "execution_count": 0,
      "outputs": []
    }
  ]
}